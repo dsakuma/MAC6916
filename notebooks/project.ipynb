{
 "cells": [
  {
   "cell_type": "code",
   "execution_count": 193,
   "metadata": {},
   "outputs": [
    {
     "name": "stdout",
     "output_type": "stream",
     "text": [
      "Requirement already satisfied: seaborn in /usr/local/lib/python3.5/site-packages (0.9.0)\n",
      "Requirement already satisfied: pandas>=0.15.2 in /usr/local/lib/python3.5/site-packages (from seaborn) (0.19.2)\n",
      "Requirement already satisfied: numpy>=1.9.3 in /usr/local/lib/python3.5/site-packages (from seaborn) (1.11.3)\n",
      "Requirement already satisfied: matplotlib>=1.4.3 in /usr/local/lib/python3.5/site-packages (from seaborn) (2.0.0)\n",
      "Requirement already satisfied: scipy>=0.14.0 in /usr/local/lib/python3.5/site-packages (from seaborn) (0.18.1)\n",
      "Requirement already satisfied: pytz>=2011k in /usr/local/lib/python3.5/site-packages (from pandas>=0.15.2->seaborn) (2018.7)\n",
      "Requirement already satisfied: python-dateutil>=2 in /usr/local/lib/python3.5/site-packages (from pandas>=0.15.2->seaborn) (2.7.5)\n",
      "Requirement already satisfied: pyparsing!=2.0.0,!=2.0.4,!=2.1.2,!=2.1.6,>=1.5.6 in /usr/local/lib/python3.5/site-packages (from matplotlib>=1.4.3->seaborn) (2.2.0)\n",
      "Requirement already satisfied: cycler>=0.10 in /usr/local/lib/python3.5/site-packages (from matplotlib>=1.4.3->seaborn) (0.10.0)\n",
      "Requirement already satisfied: six>=1.10 in /usr/local/lib/python3.5/site-packages (from matplotlib>=1.4.3->seaborn) (1.11.0)\n"
     ]
    }
   ],
   "source": [
    "!pip install seaborn"
   ]
  },
  {
   "cell_type": "code",
   "execution_count": 240,
   "metadata": {},
   "outputs": [
    {
     "name": "stdout",
     "output_type": "stream",
     "text": [
      "Collecting sklearn\n",
      "  Downloading https://files.pythonhosted.org/packages/1e/7a/dbb3be0ce9bd5c8b7e3d87328e79063f8b263b2b1bfa4774cb1147bfcd3f/sklearn-0.0.tar.gz\n",
      "Collecting scikit-learn (from sklearn)\n",
      "\u001b[?25l  Downloading https://files.pythonhosted.org/packages/16/9f/052d64ea5765c2dc1cc0f387e5cde1454534ab365700a48b09cd08f9612b/scikit_learn-0.20.1-cp35-cp35m-manylinux1_x86_64.whl (5.3MB)\n",
      "\u001b[K    100% |████████████████████████████████| 5.3MB 3.1MB/s ta 0:00:011  2% |▉                               | 133kB 3.6MB/s eta 0:00:02    43% |██████████████                  | 2.3MB 744kB/s eta 0:00:05    98% |███████████████████████████████▌| 5.3MB 3.9MB/s eta 0:00:01\n",
      "\u001b[?25hRequirement already satisfied: scipy>=0.13.3 in /usr/local/lib/python3.5/site-packages (from scikit-learn->sklearn) (0.18.1)\n",
      "Requirement already satisfied: numpy>=1.8.2 in /usr/local/lib/python3.5/site-packages (from scikit-learn->sklearn) (1.11.3)\n",
      "Building wheels for collected packages: sklearn\n",
      "  Running setup.py bdist_wheel for sklearn ... \u001b[?25ldone\n",
      "\u001b[?25h  Stored in directory: /root/.cache/pip/wheels/76/03/bb/589d421d27431bcd2c6da284d5f2286c8e3b2ea3cf1594c074\n",
      "Successfully built sklearn\n",
      "Installing collected packages: scikit-learn, sklearn\n",
      "Successfully installed scikit-learn-0.20.1 sklearn-0.0\n"
     ]
    }
   ],
   "source": [
    "!pip install sklearn"
   ]
  },
  {
   "cell_type": "code",
   "execution_count": 241,
   "metadata": {},
   "outputs": [],
   "source": [
    "# disable warnings\n",
    "import warnings\n",
    "warnings.filterwarnings('ignore')"
   ]
  },
  {
   "cell_type": "code",
   "execution_count": 243,
   "metadata": {},
   "outputs": [],
   "source": [
    "import os\n",
    "import pandas as pd\n",
    "import numpy as np\n",
    "import matplotlib.pyplot as plt\n",
    "import networkx as nx\n",
    "from networkx.drawing.nx_agraph import graphviz_layout\n",
    "from pgmpy.inference import VariableElimination\n",
    "from pgmpy.estimators import HillClimbSearch\n",
    "from pgmpy.estimators import BicScore\n",
    "import seaborn as sns\n",
    "from sklearn import preprocessing"
   ]
  },
  {
   "cell_type": "code",
   "execution_count": 196,
   "metadata": {},
   "outputs": [],
   "source": [
    "sns.set_style(\"whitegrid\")"
   ]
  },
  {
   "cell_type": "markdown",
   "metadata": {},
   "source": [
    "## Credit Card Fraud"
   ]
  },
  {
   "cell_type": "code",
   "execution_count": 197,
   "metadata": {},
   "outputs": [],
   "source": [
    "df = pd.read_csv('../data/171003_df_cleansed.csv')"
   ]
  },
  {
   "cell_type": "code",
   "execution_count": 198,
   "metadata": {},
   "outputs": [
    {
     "name": "stdout",
     "output_type": "stream",
     "text": [
      "(15487, 126)\n",
      "(423, 126)\n"
     ]
    }
   ],
   "source": [
    "print(df.shape)\n",
    "print(df[df['fraudulent'] == 1].shape)"
   ]
  },
  {
   "cell_type": "markdown",
   "metadata": {},
   "source": [
    "#### Process data"
   ]
  },
  {
   "cell_type": "code",
   "execution_count": 199,
   "metadata": {},
   "outputs": [],
   "source": [
    "pd.options.display.max_rows = 4000"
   ]
  },
  {
   "cell_type": "raw",
   "metadata": {},
   "source": [
    "df.head(1).T"
   ]
  },
  {
   "cell_type": "code",
   "execution_count": 200,
   "metadata": {},
   "outputs": [],
   "source": [
    "df['credit_card_holder_and_passenger_similarity_cat'] = pd.cut(df['credit_card_holder_and_passenger_similarity'], bins=6, include_lowest=True)"
   ]
  },
  {
   "cell_type": "code",
   "execution_count": 201,
   "metadata": {},
   "outputs": [],
   "source": [
    "df['credit_card_min_age_in_days_cat'] = pd.cut(df['credit_card_min_age_in_days'], bins=20, include_lowest=True)"
   ]
  },
  {
   "cell_type": "code",
   "execution_count": 202,
   "metadata": {},
   "outputs": [],
   "source": [
    "df['flight_price_per_passenger_cat'] = pd.cut(df['flight_price_per_passenger'], bins=30, include_lowest=True)"
   ]
  },
  {
   "cell_type": "code",
   "execution_count": 203,
   "metadata": {},
   "outputs": [],
   "source": [
    "df['credit_card_min_sales_count_cat'] =  pd.cut(df['credit_card_min_sales_count'], bins=20, include_lowest=True)"
   ]
  },
  {
   "cell_type": "code",
   "execution_count": 204,
   "metadata": {},
   "outputs": [],
   "source": [
    "df['credit_card_max_sales_count_24h_cat'] =  pd.cut(df['credit_card_max_sales_count_24h'], bins=20, include_lowest=True)"
   ]
  },
  {
   "cell_type": "code",
   "execution_count": 205,
   "metadata": {},
   "outputs": [],
   "source": [
    "df['flight_hours_to_departure_cat'] =  pd.cut(df['flight_hours_to_departure'], bins=20, include_lowest=True)"
   ]
  },
  {
   "cell_type": "code",
   "execution_count": 206,
   "metadata": {},
   "outputs": [],
   "source": [
    "df['credit_card_holder_diff_cat'] =  pd.cut(df['credit_card_holder_diff'], bins=5, include_lowest=True)"
   ]
  },
  {
   "cell_type": "code",
   "execution_count": 207,
   "metadata": {},
   "outputs": [],
   "source": [
    "df['credit_card_last_names_association_count_cat'] = pd.cut(df['credit_card_last_names_association_count'], bins=5, include_lowest=True)"
   ]
  },
  {
   "cell_type": "code",
   "execution_count": 208,
   "metadata": {},
   "outputs": [],
   "source": [
    "df[\"flight_origin_destination_iata\"] = df[\"flight_origin_iata\"] + df[\"flight_destination_iata\"]"
   ]
  },
  {
   "cell_type": "code",
   "execution_count": 209,
   "metadata": {},
   "outputs": [
    {
     "data": {
      "text/plain": [
       "[(0.333, 0.667], (-0.333, 0], (0, 0.333], (0.667, 1], [-1.002, -0.667]]\n",
       "Categories (5, object): [[-1.002, -0.667] < (-0.333, 0] < (0, 0.333] < (0.333, 0.667] < (0.667, 1]]"
      ]
     },
     "execution_count": 209,
     "metadata": {},
     "output_type": "execute_result"
    }
   ],
   "source": [
    "df.credit_card_holder_and_passenger_similarity_cat.unique()"
   ]
  },
  {
   "cell_type": "code",
   "execution_count": 281,
   "metadata": {},
   "outputs": [],
   "source": [
    "#filter features\n",
    "data = df[[\n",
    "    'credit_card_holder_and_passenger_similarity_cat',\n",
    "    'credit_card_min_age_in_days_cat',\n",
    "#     'flight_price_per_passenger_cat',\n",
    "#     'credit_card_min_sales_count_cat',\n",
    "#     'credit_card_max_sales_count_24h_cat',\n",
    "    'flight_hours_to_departure_cat',\n",
    "#     'credit_card_holder_diff_cat',\n",
    "#     'credit_card_last_names_association_count_cat',\n",
    "#     'flight_origin_destination_iata',\n",
    "#     'payment_attempts_count',\n",
    "    'fraudulent',\n",
    "#     'flight_international',\n",
    "#     'flight_travel_type'\n",
    "]]"
   ]
  },
  {
   "cell_type": "code",
   "execution_count": 282,
   "metadata": {},
   "outputs": [],
   "source": [
    "data = data.dropna()"
   ]
  },
  {
   "cell_type": "code",
   "execution_count": 283,
   "metadata": {},
   "outputs": [],
   "source": [
    "dict_columns = {}"
   ]
  },
  {
   "cell_type": "code",
   "execution_count": 284,
   "metadata": {},
   "outputs": [],
   "source": [
    "for column in data.columns:\n",
    "    le = preprocessing.LabelEncoder()\n",
    "    le.fit(data[column])\n",
    "    data[column] = le.transform(data[column]) \n",
    "    dict_columns[column] = le.classes_"
   ]
  },
  {
   "cell_type": "code",
   "execution_count": 285,
   "metadata": {},
   "outputs": [
    {
     "data": {
      "text/plain": [
       "{'credit_card_holder_and_passenger_similarity_cat': array(['(-0.333, 0]', '(0, 0.333]', '(0.333, 0.667]', '(0.667, 1]',\n",
       "        '[-1.002, -0.667]'], dtype=object),\n",
       " 'credit_card_min_age_in_days_cat': array(['(123.9, 165.2]', '(165.2, 206.5]', '(206.5, 247.8]',\n",
       "        '(247.8, 289.1]', '(289.1, 330.4]', '(330.4, 371.7]',\n",
       "        '(371.7, 413]', '(41.3, 82.6]', '(413, 454.3]', '(454.3, 495.6]',\n",
       "        '(495.6, 536.9]', '(536.9, 578.2]', '(578.2, 619.5]',\n",
       "        '(619.5, 660.8]', '(660.8, 702.1]', '(702.1, 743.4]',\n",
       "        '(743.4, 784.7]', '(784.7, 826]', '(82.6, 123.9]', '[-0.826, 41.3]'], dtype=object),\n",
       " 'flight_hours_to_departure_cat': array(['(1294.35, 1725.8]', '(1725.8, 2157.25]', '(2157.25, 2588.7]',\n",
       "        '(2588.7, 3020.15]', '(3020.15, 3451.6]', '(3451.6, 3883.05]',\n",
       "        '(3883.05, 4314.5]', '(431.45, 862.9]', '(4314.5, 4745.95]',\n",
       "        '(4745.95, 5177.4]', '(5177.4, 5608.85]', '(5608.85, 6040.3]',\n",
       "        '(6040.3, 6471.75]', '(6471.75, 6903.2]', '(6903.2, 7334.65]',\n",
       "        '(7334.65, 7766.1]', '(7766.1, 8197.55]', '(8197.55, 8629]',\n",
       "        '(862.9, 1294.35]', '[-8.629, 431.45]'], dtype=object),\n",
       " 'fraudulent': array([False,  True], dtype=bool)}"
      ]
     },
     "execution_count": 285,
     "metadata": {},
     "output_type": "execute_result"
    }
   ],
   "source": [
    "dict_columns"
   ]
  },
  {
   "cell_type": "code",
   "execution_count": 286,
   "metadata": {},
   "outputs": [],
   "source": [
    "# data['credit_card_holder_and_passenger_similarity_cat'] = data['credit_card_holder_and_passenger_similarity_cat'].cat.codes\n",
    "\n",
    "# data['credit_card_min_age_in_days_cat'] = data['credit_card_min_age_in_days_cat'].cat.codes\n",
    "\n",
    "# data['flight_price_per_passenger_cat'] = data['flight_price_per_passenger_cat'].cat.codes\n",
    "\n",
    "# data['credit_card_min_sales_count_cat'] = data['credit_card_min_sales_count_cat'].cat.codes\n",
    "\n",
    "# data['credit_card_max_sales_count_24h_cat'] = data['credit_card_max_sales_count_24h_cat'].cat.codes\n",
    "\n",
    "# data['flight_hours_to_departure_cat'] = data['flight_hours_to_departure_cat'].cat.codes\n",
    "\n",
    "# data['credit_card_holder_diff_cat'] = data['credit_card_holder_diff_cat'].cat.codes\n",
    "\n",
    "# data['credit_card_last_names_association_count_cat'] = data['credit_card_last_names_association_count_cat'].cat.codes\n",
    "\n",
    "# data.fraudulent = data.fraudulent.astype(int)\n",
    "\n",
    "# data.payment_attempts_count = data.payment_attempts_count.astype(int)\n",
    "\n",
    "# data.flight_international = data.flight_international.astype(int)\n",
    "\n",
    "### data.flight_travel_type_codes = data.flight_travel_type.astype(int)\n"
   ]
  },
  {
   "cell_type": "markdown",
   "metadata": {},
   "source": [
    "#### Structure learning"
   ]
  },
  {
   "cell_type": "code",
   "execution_count": 287,
   "metadata": {},
   "outputs": [
    {
     "name": "stdout",
     "output_type": "stream",
     "text": [
      "[('credit_card_holder_and_passenger_similarity_cat', 'credit_card_min_age_in_days_cat'), ('flight_hours_to_departure_cat', 'fraudulent'), ('flight_hours_to_departure_cat', 'credit_card_holder_and_passenger_similarity_cat')]\n"
     ]
    }
   ],
   "source": [
    "hc = HillClimbSearch(data, scoring_method=BicScore(data))\n",
    "best_model = hc.estimate()\n",
    "print(best_model.edges())"
   ]
  },
  {
   "cell_type": "code",
   "execution_count": 288,
   "metadata": {},
   "outputs": [
    {
     "data": {
      "image/png": "[encoded data removed]",
      "text/plain": [
       "<matplotlib.figure.Figure at 0x7f08a7de9e48>"
      ]
     },
     "metadata": {},
     "output_type": "display_data"
    }
   ],
   "source": [
    "nx.draw(best_model, with_labels=True, pos=graphviz_layout(best_model))\n",
    "plt.show()"
   ]
  },
  {
   "cell_type": "code",
   "execution_count": 289,
   "metadata": {},
   "outputs": [
    {
     "data": {
      "image/png": "[encoded data removed]",
      "text/plain": [
       "<matplotlib.figure.Figure at 0x7f08a6f1e9e8>"
      ]
     },
     "metadata": {},
     "output_type": "display_data"
    }
   ],
   "source": [
    "nx.draw(best_model, with_labels=True, pos=graphviz_layout(best_model))\n",
    "plt.show()"
   ]
  },
  {
   "cell_type": "markdown",
   "metadata": {},
   "source": [
    "#### Parameter learning"
   ]
  },
  {
   "cell_type": "code",
   "execution_count": 290,
   "metadata": {},
   "outputs": [],
   "source": [
    "# from pgmpy.estimators import ParameterEstimator\n",
    "# pe = ParameterEstimator(best_model, data)"
   ]
  },
  {
   "cell_type": "code",
   "execution_count": 291,
   "metadata": {},
   "outputs": [],
   "source": [
    "from pgmpy.estimators import MaximumLikelihoodEstimator\n",
    "mle = MaximumLikelihoodEstimator(best_model, data)"
   ]
  },
  {
   "cell_type": "code",
   "execution_count": 292,
   "metadata": {},
   "outputs": [],
   "source": [
    "best_model.fit(data, estimator=MaximumLikelihoodEstimator)"
   ]
  },
  {
   "cell_type": "markdown",
   "metadata": {},
   "source": [
    "#### Queries"
   ]
  },
  {
   "cell_type": "code",
   "execution_count": 293,
   "metadata": {},
   "outputs": [],
   "source": [
    "infer = VariableElimination(best_model)"
   ]
  },
  {
   "cell_type": "code",
   "execution_count": 294,
   "metadata": {},
   "outputs": [
    {
     "name": "stdout",
     "output_type": "stream",
     "text": [
      "╒══════════════╤═══════════════════╕\n",
      "│ fraudulent   │   phi(fraudulent) │\n",
      "╞══════════════╪═══════════════════╡\n",
      "│ fraudulent_0 │            0.9727 │\n",
      "├──────────────┼───────────────────┤\n",
      "│ fraudulent_1 │            0.0273 │\n",
      "╘══════════════╧═══════════════════╛\n"
     ]
    }
   ],
   "source": [
    "print(\n",
    "    infer.query(\n",
    "        ['fraudulent']\n",
    "    ) ['fraudulent']\n",
    ")"
   ]
  },
  {
   "cell_type": "code",
   "execution_count": 297,
   "metadata": {},
   "outputs": [
    {
     "name": "stdout",
     "output_type": "stream",
     "text": [
      "╒══════════════╤═══════════════════╕\n",
      "│ fraudulent   │   phi(fraudulent) │\n",
      "╞══════════════╪═══════════════════╡\n",
      "│ fraudulent_0 │            0.9507 │\n",
      "├──────────────┼───────────────────┤\n",
      "│ fraudulent_1 │            0.0493 │\n",
      "╘══════════════╧═══════════════════╛\n"
     ]
    }
   ],
   "source": [
    "# Hours to departure: 0, 431.45\n",
    "print(\n",
    "    infer.query(\n",
    "        ['fraudulent'],\n",
    "        evidence={\n",
    "            'flight_hours_to_departure_cat': 19\n",
    "        }\n",
    "    ) ['fraudulent']\n",
    ")"
   ]
  },
  {
   "cell_type": "code",
   "execution_count": 298,
   "metadata": {},
   "outputs": [
    {
     "name": "stdout",
     "output_type": "stream",
     "text": [
      "╒══════════════╤═══════════════════╕\n",
      "│ fraudulent   │   phi(fraudulent) │\n",
      "╞══════════════╪═══════════════════╡\n",
      "│ fraudulent_0 │            1.0000 │\n",
      "├──────────────┼───────────────────┤\n",
      "│ fraudulent_1 │            0.0000 │\n",
      "╘══════════════╧═══════════════════╛\n"
     ]
    }
   ],
   "source": [
    "# Hours to departure 8197.55, 8629\n",
    "\n",
    "print(\n",
    "    infer.query(\n",
    "        ['fraudulent'],\n",
    "        evidence={\n",
    "            'flight_hours_to_departure_cat': 17\n",
    "        }\n",
    "    ) ['fraudulent']\n",
    ")"
   ]
  },
  {
   "cell_type": "code",
   "execution_count": null,
   "metadata": {},
   "outputs": [],
   "source": []
  }
 ],
 "metadata": {
  "kernelspec": {
   "display_name": "Python 3",
   "language": "python",
   "name": "python3"
  },
  "language_info": {
   "codemirror_mode": {
    "name": "ipython",
    "version": 3
   },
   "file_extension": ".py",
   "mimetype": "text/x-python",
   "name": "python",
   "nbconvert_exporter": "python",
   "pygments_lexer": "ipython3",
   "version": "3.5.6"
  }
 },
 "nbformat": 4,
 "nbformat_minor": 2
}
