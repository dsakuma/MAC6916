{
 "cells": [
  {
   "cell_type": "code",
   "execution_count": 299,
   "metadata": {},
   "outputs": [
    {
     "name": "stdout",
     "output_type": "stream",
     "text": [
      "Requirement already satisfied: seaborn in /usr/local/lib/python3.5/site-packages (0.9.0)\r\n",
      "Requirement already satisfied: scipy>=0.14.0 in /usr/local/lib/python3.5/site-packages (from seaborn) (0.18.1)\r\n",
      "Requirement already satisfied: pandas>=0.15.2 in /usr/local/lib/python3.5/site-packages (from seaborn) (0.19.2)\r\n",
      "Requirement already satisfied: numpy>=1.9.3 in /usr/local/lib/python3.5/site-packages (from seaborn) (1.11.3)\r\n",
      "Requirement already satisfied: matplotlib>=1.4.3 in /usr/local/lib/python3.5/site-packages (from seaborn) (2.0.0)\r\n",
      "Requirement already satisfied: python-dateutil>=2 in /usr/local/lib/python3.5/site-packages (from pandas>=0.15.2->seaborn) (2.7.5)\r\n",
      "Requirement already satisfied: pytz>=2011k in /usr/local/lib/python3.5/site-packages (from pandas>=0.15.2->seaborn) (2018.7)\r\n",
      "Requirement already satisfied: cycler>=0.10 in /usr/local/lib/python3.5/site-packages (from matplotlib>=1.4.3->seaborn) (0.10.0)\r\n",
      "Requirement already satisfied: six>=1.10 in /usr/local/lib/python3.5/site-packages (from matplotlib>=1.4.3->seaborn) (1.11.0)\r\n",
      "Requirement already satisfied: pyparsing!=2.0.0,!=2.0.4,!=2.1.2,!=2.1.6,>=1.5.6 in /usr/local/lib/python3.5/site-packages (from matplotlib>=1.4.3->seaborn) (2.2.0)\r\n"
     ]
    }
   ],
   "source": [
    "!pip install seaborn"
   ]
  },
  {
   "cell_type": "code",
   "execution_count": 300,
   "metadata": {},
   "outputs": [
    {
     "name": "stdout",
     "output_type": "stream",
     "text": [
      "Requirement already satisfied: sklearn in /usr/local/lib/python3.5/site-packages (0.0)\r\n",
      "Requirement already satisfied: scikit-learn in /usr/local/lib/python3.5/site-packages (from sklearn) (0.20.1)\r\n",
      "Requirement already satisfied: scipy>=0.13.3 in /usr/local/lib/python3.5/site-packages (from scikit-learn->sklearn) (0.18.1)\r\n",
      "Requirement already satisfied: numpy>=1.8.2 in /usr/local/lib/python3.5/site-packages (from scikit-learn->sklearn) (1.11.3)\r\n"
     ]
    }
   ],
   "source": [
    "!pip install sklearn"
   ]
  },
  {
   "cell_type": "code",
   "execution_count": 301,
   "metadata": {},
   "outputs": [],
   "source": [
    "# disable warnings\n",
    "import warnings\n",
    "warnings.filterwarnings('ignore')"
   ]
  },
  {
   "cell_type": "code",
   "execution_count": 302,
   "metadata": {},
   "outputs": [],
   "source": [
    "import os\n",
    "import pandas as pd\n",
    "import numpy as np\n",
    "import matplotlib.pyplot as plt\n",
    "import networkx as nx\n",
    "from networkx.drawing.nx_agraph import graphviz_layout\n",
    "from pgmpy.inference import VariableElimination\n",
    "from pgmpy.estimators import HillClimbSearch\n",
    "from pgmpy.estimators import BicScore\n",
    "import seaborn as sns\n",
    "from sklearn import preprocessing"
   ]
  },
  {
   "cell_type": "code",
   "execution_count": 303,
   "metadata": {},
   "outputs": [],
   "source": [
    "sns.set_style(\"whitegrid\")"
   ]
  },
  {
   "cell_type": "markdown",
   "metadata": {},
   "source": [
    "## Credit Card Fraud"
   ]
  },
  {
   "cell_type": "code",
   "execution_count": 304,
   "metadata": {},
   "outputs": [],
   "source": [
    "df = pd.read_csv('../data/171003_df_cleansed.csv')"
   ]
  },
  {
   "cell_type": "code",
   "execution_count": 305,
   "metadata": {},
   "outputs": [
    {
     "name": "stdout",
     "output_type": "stream",
     "text": [
      "(15487, 126)\n",
      "(423, 126)\n"
     ]
    }
   ],
   "source": [
    "print(df.shape)\n",
    "print(df[df['fraudulent'] == 1].shape)"
   ]
  },
  {
   "cell_type": "markdown",
   "metadata": {},
   "source": [
    "#### Process data"
   ]
  },
  {
   "cell_type": "code",
   "execution_count": 306,
   "metadata": {},
   "outputs": [],
   "source": [
    "pd.options.display.max_rows = 4000"
   ]
  },
  {
   "cell_type": "raw",
   "metadata": {},
   "source": [
    "df.head(1).T"
   ]
  },
  {
   "cell_type": "code",
   "execution_count": 307,
   "metadata": {},
   "outputs": [],
   "source": [
    "df['credit_card_holder_and_passenger_similarity_cat'] = pd.cut(df['credit_card_holder_and_passenger_similarity'], bins=6, include_lowest=True)"
   ]
  },
  {
   "cell_type": "code",
   "execution_count": 308,
   "metadata": {},
   "outputs": [],
   "source": [
    "df['credit_card_min_age_in_days_cat'] = pd.cut(df['credit_card_min_age_in_days'], bins=20, include_lowest=True)"
   ]
  },
  {
   "cell_type": "code",
   "execution_count": 309,
   "metadata": {},
   "outputs": [],
   "source": [
    "df['flight_price_per_passenger_cat'] = pd.cut(df['flight_price_per_passenger'], bins=30, include_lowest=True)"
   ]
  },
  {
   "cell_type": "code",
   "execution_count": 310,
   "metadata": {},
   "outputs": [],
   "source": [
    "df['credit_card_min_sales_count_cat'] =  pd.cut(df['credit_card_min_sales_count'], bins=20, include_lowest=True)"
   ]
  },
  {
   "cell_type": "code",
   "execution_count": 311,
   "metadata": {},
   "outputs": [],
   "source": [
    "df['credit_card_max_sales_count_24h_cat'] =  pd.cut(df['credit_card_max_sales_count_24h'], bins=20, include_lowest=True)"
   ]
  },
  {
   "cell_type": "code",
   "execution_count": 312,
   "metadata": {},
   "outputs": [],
   "source": [
    "df['flight_hours_to_departure_cat'] =  pd.cut(df['flight_hours_to_departure'], bins=20, include_lowest=True)"
   ]
  },
  {
   "cell_type": "code",
   "execution_count": 313,
   "metadata": {},
   "outputs": [],
   "source": [
    "df['credit_card_holder_diff_cat'] =  pd.cut(df['credit_card_holder_diff'], bins=5, include_lowest=True)"
   ]
  },
  {
   "cell_type": "code",
   "execution_count": 314,
   "metadata": {},
   "outputs": [],
   "source": [
    "df['credit_card_last_names_association_count_cat'] = pd.cut(df['credit_card_last_names_association_count'], bins=5, include_lowest=True)"
   ]
  },
  {
   "cell_type": "code",
   "execution_count": 315,
   "metadata": {},
   "outputs": [],
   "source": [
    "df[\"flight_origin_destination_iata\"] = df[\"flight_origin_iata\"] + df[\"flight_destination_iata\"]"
   ]
  },
  {
   "cell_type": "code",
   "execution_count": 316,
   "metadata": {},
   "outputs": [
    {
     "data": {
      "text/plain": [
       "[(0.333, 0.667], (-0.333, 0], (0, 0.333], (0.667, 1], [-1.002, -0.667]]\n",
       "Categories (5, object): [[-1.002, -0.667] < (-0.333, 0] < (0, 0.333] < (0.333, 0.667] < (0.667, 1]]"
      ]
     },
     "execution_count": 316,
     "metadata": {},
     "output_type": "execute_result"
    }
   ],
   "source": [
    "df.credit_card_holder_and_passenger_similarity_cat.unique()"
   ]
  },
  {
   "cell_type": "code",
   "execution_count": 317,
   "metadata": {},
   "outputs": [],
   "source": [
    "#filter features\n",
    "data = df[[\n",
    "    'credit_card_holder_and_passenger_similarity_cat',\n",
    "    'credit_card_min_age_in_days_cat',\n",
    "    'flight_price_per_passenger_cat',\n",
    "    'credit_card_min_sales_count_cat',\n",
    "    'credit_card_max_sales_count_24h_cat',\n",
    "    'flight_hours_to_departure_cat',\n",
    "    'credit_card_holder_diff_cat',\n",
    "    'credit_card_last_names_association_count_cat',\n",
    "    'flight_origin_destination_iata',\n",
    "    'payment_attempts_count',\n",
    "    'fraudulent',\n",
    "    'flight_international',\n",
    "    'flight_travel_type'\n",
    "]]"
   ]
  },
  {
   "cell_type": "code",
   "execution_count": 318,
   "metadata": {},
   "outputs": [],
   "source": [
    "data = data.dropna()"
   ]
  },
  {
   "cell_type": "code",
   "execution_count": 319,
   "metadata": {},
   "outputs": [],
   "source": [
    "dict_columns = {}"
   ]
  },
  {
   "cell_type": "code",
   "execution_count": 320,
   "metadata": {},
   "outputs": [],
   "source": [
    "for column in data.columns:\n",
    "    le = preprocessing.LabelEncoder()\n",
    "    le.fit(data[column])\n",
    "    data[column] = le.transform(data[column]) \n",
    "    dict_columns[column] = le.classes_"
   ]
  },
  {
   "cell_type": "code",
   "execution_count": 321,
   "metadata": {},
   "outputs": [
    {
     "data": {
      "text/plain": [
       "{'credit_card_holder_and_passenger_similarity_cat': array(['(-0.333, 0]', '(0, 0.333]', '(0.333, 0.667]', '(0.667, 1]',\n",
       "        '[-1.002, -0.667]'], dtype=object),\n",
       " 'credit_card_holder_diff_cat': array(['(10.4, 15.6]', '(15.6, 20.8]', '(20.8, 26]', '(5.2, 10.4]',\n",
       "        '[-0.026, 5.2]'], dtype=object),\n",
       " 'credit_card_last_names_association_count_cat': array(['(10.8, 16.2]', '(16.2, 21.6]', '(21.6, 27]', '(5.4, 10.8]',\n",
       "        '[-0.027, 5.4]'], dtype=object),\n",
       " 'credit_card_max_sales_count_24h_cat': array(['(10.05, 13.4]', '(13.4, 16.75]', '(16.75, 20.1]', '(20.1, 23.45]',\n",
       "        '(23.45, 26.8]', '(26.8, 30.15]', '(3.35, 6.7]', '(30.15, 33.5]',\n",
       "        '(33.5, 36.85]', '(36.85, 40.2]', '(40.2, 43.55]', '(43.55, 46.9]',\n",
       "        '(46.9, 50.25]', '(50.25, 53.6]', '(6.7, 10.05]', '(63.65, 67]',\n",
       "        '[-0.067, 3.35]'], dtype=object),\n",
       " 'credit_card_min_age_in_days_cat': array(['(123.9, 165.2]', '(165.2, 206.5]', '(206.5, 247.8]',\n",
       "        '(247.8, 289.1]', '(289.1, 330.4]', '(330.4, 371.7]',\n",
       "        '(371.7, 413]', '(41.3, 82.6]', '(413, 454.3]', '(454.3, 495.6]',\n",
       "        '(495.6, 536.9]', '(536.9, 578.2]', '(578.2, 619.5]',\n",
       "        '(619.5, 660.8]', '(660.8, 702.1]', '(702.1, 743.4]',\n",
       "        '(743.4, 784.7]', '(784.7, 826]', '(82.6, 123.9]', '[-0.826, 41.3]'], dtype=object),\n",
       " 'credit_card_min_sales_count_cat': array(['(1122.75, 1347.3]', '(1347.3, 1571.85]', '(1571.85, 1796.4]',\n",
       "        '(1796.4, 2020.95]', '(2020.95, 2245.5]', '(224.55, 449.1]',\n",
       "        '(2245.5, 2470.05]', '(2470.05, 2694.6]', '(2694.6, 2919.15]',\n",
       "        '(2919.15, 3143.7]', '(3143.7, 3368.25]', '(3368.25, 3592.8]',\n",
       "        '(3592.8, 3817.35]', '(3817.35, 4041.9]', '(4041.9, 4266.45]',\n",
       "        '(4266.45, 4491]', '(449.1, 673.65]', '(673.65, 898.2]',\n",
       "        '(898.2, 1122.75]', '[-4.491, 224.55]'], dtype=object),\n",
       " 'flight_hours_to_departure_cat': array(['(1294.35, 1725.8]', '(1725.8, 2157.25]', '(2157.25, 2588.7]',\n",
       "        '(2588.7, 3020.15]', '(3020.15, 3451.6]', '(3451.6, 3883.05]',\n",
       "        '(3883.05, 4314.5]', '(431.45, 862.9]', '(4314.5, 4745.95]',\n",
       "        '(4745.95, 5177.4]', '(5177.4, 5608.85]', '(5608.85, 6040.3]',\n",
       "        '(6040.3, 6471.75]', '(6471.75, 6903.2]', '(6903.2, 7334.65]',\n",
       "        '(7334.65, 7766.1]', '(7766.1, 8197.55]', '(8197.55, 8629]',\n",
       "        '(862.9, 1294.35]', '[-8.629, 431.45]'], dtype=object),\n",
       " 'flight_international': array([False, True], dtype=object),\n",
       " 'flight_origin_destination_iata': array(['ABJCMN', 'ADZCTG', 'ADZGRU', ..., 'ZRHLHR', 'ZRHREC', 'ZWEGVA'], dtype=object),\n",
       " 'flight_price_per_passenger_cat': array(['(10033.472, 12040.166]', '(12040.166, 14046.86]',\n",
       "        '(14046.86, 16053.555]', '(16053.555, 18060.249]',\n",
       "        '(18060.249, 20066.943]', '(2006.694, 4013.389]',\n",
       "        '(20066.943, 22073.638]', '(22073.638, 24080.332]',\n",
       "        '(24080.332, 26087.0263]', '(26087.0263, 28093.721]',\n",
       "        '(28093.721, 30100.415]', '(30100.415, 32107.109]',\n",
       "        '(34113.804, 36120.498]', '(38127.192, 40133.887]',\n",
       "        '(4013.389, 6020.083]', '(48160.664, 50167.358]',\n",
       "        '(58194.136, 60200.83]', '(6020.083, 8026.777]',\n",
       "        '(8026.777, 10033.472]', '[-60.201, 2006.694]'], dtype=object),\n",
       " 'flight_travel_type': array(['oneway', 'roundtrip'], dtype=object),\n",
       " 'fraudulent': array([False,  True], dtype=bool),\n",
       " 'payment_attempts_count': array([ 0.,  1.,  2.,  3.,  4.,  5.,  6.,  7.,  9.])}"
      ]
     },
     "execution_count": 321,
     "metadata": {},
     "output_type": "execute_result"
    }
   ],
   "source": [
    "dict_columns"
   ]
  },
  {
   "cell_type": "markdown",
   "metadata": {},
   "source": [
    "#### Structure learning"
   ]
  },
  {
   "cell_type": "code",
   "execution_count": 322,
   "metadata": {},
   "outputs": [
    {
     "name": "stdout",
     "output_type": "stream",
     "text": [
      "[('flight_price_per_passenger_cat', 'flight_travel_type'), ('fraudulent', 'credit_card_holder_and_passenger_similarity_cat'), ('flight_travel_type', 'fraudulent'), ('flight_hours_to_departure_cat', 'flight_international'), ('payment_attempts_count', 'fraudulent'), ('credit_card_holder_and_passenger_similarity_cat', 'credit_card_min_age_in_days_cat'), ('credit_card_holder_and_passenger_similarity_cat', 'credit_card_min_sales_count_cat'), ('credit_card_holder_and_passenger_similarity_cat', 'credit_card_max_sales_count_24h_cat'), ('credit_card_holder_and_passenger_similarity_cat', 'credit_card_last_names_association_count_cat'), ('credit_card_holder_and_passenger_similarity_cat', 'credit_card_holder_diff_cat'), ('flight_international', 'flight_travel_type'), ('flight_international', 'flight_price_per_passenger_cat'), ('flight_international', 'payment_attempts_count'), ('flight_international', 'credit_card_holder_and_passenger_similarity_cat')]\n"
     ]
    }
   ],
   "source": [
    "hc = HillClimbSearch(data, scoring_method=BicScore(data))\n",
    "best_model = hc.estimate()\n",
    "print(best_model.edges())"
   ]
  },
  {
   "cell_type": "code",
   "execution_count": 323,
   "metadata": {},
   "outputs": [
    {
     "data": {
      "image/png": "[encoded data removed]",
      "text/plain": [
       "<matplotlib.figure.Figure at 0x7f08a70967f0>"
      ]
     },
     "metadata": {},
     "output_type": "display_data"
    }
   ],
   "source": [
    "nx.draw(best_model, with_labels=True, pos=graphviz_layout(best_model))\n",
    "plt.show()"
   ]
  },
  {
   "cell_type": "code",
   "execution_count": 324,
   "metadata": {},
   "outputs": [
    {
     "data": {
      "image/png": "[encoded data removed]",
      "text/plain": [
       "<matplotlib.figure.Figure at 0x7f08a50514e0>"
      ]
     },
     "metadata": {},
     "output_type": "display_data"
    }
   ],
   "source": [
    "nx.draw(best_model, with_labels=True, pos=graphviz_layout(best_model))\n",
    "plt.show()"
   ]
  },
  {
   "cell_type": "markdown",
   "metadata": {},
   "source": [
    "#### Parameter learning"
   ]
  },
  {
   "cell_type": "code",
   "execution_count": 325,
   "metadata": {},
   "outputs": [],
   "source": [
    "# from pgmpy.estimators import ParameterEstimator\n",
    "# pe = ParameterEstimator(best_model, data)"
   ]
  },
  {
   "cell_type": "code",
   "execution_count": 326,
   "metadata": {},
   "outputs": [],
   "source": [
    "from pgmpy.estimators import MaximumLikelihoodEstimator\n",
    "mle = MaximumLikelihoodEstimator(best_model, data)"
   ]
  },
  {
   "cell_type": "code",
   "execution_count": 327,
   "metadata": {},
   "outputs": [],
   "source": [
    "best_model.fit(data, estimator=MaximumLikelihoodEstimator)"
   ]
  },
  {
   "cell_type": "markdown",
   "metadata": {},
   "source": [
    "#### Queries"
   ]
  },
  {
   "cell_type": "code",
   "execution_count": 328,
   "metadata": {},
   "outputs": [],
   "source": [
    "infer = VariableElimination(best_model)"
   ]
  },
  {
   "cell_type": "code",
   "execution_count": 329,
   "metadata": {},
   "outputs": [
    {
     "name": "stdout",
     "output_type": "stream",
     "text": [
      "╒══════════════╤═══════════════════╕\n",
      "│ fraudulent   │   phi(fraudulent) │\n",
      "╞══════════════╪═══════════════════╡\n",
      "│ fraudulent_0 │            0.9728 │\n",
      "├──────────────┼───────────────────┤\n",
      "│ fraudulent_1 │            0.0272 │\n",
      "╘══════════════╧═══════════════════╛\n"
     ]
    }
   ],
   "source": [
    "print(\n",
    "    infer.query(\n",
    "        ['fraudulent']\n",
    "    ) ['fraudulent']\n",
    ")"
   ]
  },
  {
   "cell_type": "code",
   "execution_count": 330,
   "metadata": {},
   "outputs": [
    {
     "name": "stdout",
     "output_type": "stream",
     "text": [
      "╒══════════════╤═══════════════════╕\n",
      "│ fraudulent   │   phi(fraudulent) │\n",
      "╞══════════════╪═══════════════════╡\n",
      "│ fraudulent_0 │            0.9704 │\n",
      "├──────────────┼───────────────────┤\n",
      "│ fraudulent_1 │            0.0296 │\n",
      "╘══════════════╧═══════════════════╛\n"
     ]
    }
   ],
   "source": [
    "# Hours to departure: 0, 431.45\n",
    "print(\n",
    "    infer.query(\n",
    "        ['fraudulent'],\n",
    "        evidence={\n",
    "            'flight_hours_to_departure_cat': 19\n",
    "        }\n",
    "    ) ['fraudulent']\n",
    ")"
   ]
  },
  {
   "cell_type": "code",
   "execution_count": 331,
   "metadata": {},
   "outputs": [
    {
     "name": "stdout",
     "output_type": "stream",
     "text": [
      "╒══════════════╤═══════════════════╕\n",
      "│ fraudulent   │   phi(fraudulent) │\n",
      "╞══════════════╪═══════════════════╡\n",
      "│ fraudulent_0 │            0.9836 │\n",
      "├──────────────┼───────────────────┤\n",
      "│ fraudulent_1 │            0.0164 │\n",
      "╘══════════════╧═══════════════════╛\n"
     ]
    }
   ],
   "source": [
    "# Hours to departure 8197.55, 8629\n",
    "\n",
    "print(\n",
    "    infer.query(\n",
    "        ['fraudulent'],\n",
    "        evidence={\n",
    "            'flight_hours_to_departure_cat': 17\n",
    "        }\n",
    "    ) ['fraudulent']\n",
    ")"
   ]
  },
  {
   "cell_type": "code",
   "execution_count": 334,
   "metadata": {},
   "outputs": [
    {
     "name": "stdout",
     "output_type": "stream",
     "text": [
      "╒══════════════════════════════════╤══════════════════════════════════════╕\n",
      "│ flight_hours_to_departure_cat    │   phi(flight_hours_to_departure_cat) │\n",
      "╞══════════════════════════════════╪══════════════════════════════════════╡\n",
      "│ flight_hours_to_departure_cat_0  │                               0.0492 │\n",
      "├──────────────────────────────────┼──────────────────────────────────────┤\n",
      "│ flight_hours_to_departure_cat_1  │                               0.0352 │\n",
      "├──────────────────────────────────┼──────────────────────────────────────┤\n",
      "│ flight_hours_to_departure_cat_2  │                               0.0221 │\n",
      "├──────────────────────────────────┼──────────────────────────────────────┤\n",
      "│ flight_hours_to_departure_cat_3  │                               0.0133 │\n",
      "├──────────────────────────────────┼──────────────────────────────────────┤\n",
      "│ flight_hours_to_departure_cat_4  │                               0.0085 │\n",
      "├──────────────────────────────────┼──────────────────────────────────────┤\n",
      "│ flight_hours_to_departure_cat_5  │                               0.0076 │\n",
      "├──────────────────────────────────┼──────────────────────────────────────┤\n",
      "│ flight_hours_to_departure_cat_6  │                               0.0060 │\n",
      "├──────────────────────────────────┼──────────────────────────────────────┤\n",
      "│ flight_hours_to_departure_cat_7  │                               0.1820 │\n",
      "├──────────────────────────────────┼──────────────────────────────────────┤\n",
      "│ flight_hours_to_departure_cat_8  │                               0.0026 │\n",
      "├──────────────────────────────────┼──────────────────────────────────────┤\n",
      "│ flight_hours_to_departure_cat_9  │                               0.0014 │\n",
      "├──────────────────────────────────┼──────────────────────────────────────┤\n",
      "│ flight_hours_to_departure_cat_10 │                               0.0014 │\n",
      "├──────────────────────────────────┼──────────────────────────────────────┤\n",
      "│ flight_hours_to_departure_cat_11 │                               0.0007 │\n",
      "├──────────────────────────────────┼──────────────────────────────────────┤\n",
      "│ flight_hours_to_departure_cat_12 │                               0.0010 │\n",
      "├──────────────────────────────────┼──────────────────────────────────────┤\n",
      "│ flight_hours_to_departure_cat_13 │                               0.0006 │\n",
      "├──────────────────────────────────┼──────────────────────────────────────┤\n",
      "│ flight_hours_to_departure_cat_14 │                               0.0001 │\n",
      "├──────────────────────────────────┼──────────────────────────────────────┤\n",
      "│ flight_hours_to_departure_cat_15 │                               0.0005 │\n",
      "├──────────────────────────────────┼──────────────────────────────────────┤\n",
      "│ flight_hours_to_departure_cat_16 │                               0.0002 │\n",
      "├──────────────────────────────────┼──────────────────────────────────────┤\n",
      "│ flight_hours_to_departure_cat_17 │                               0.0000 │\n",
      "├──────────────────────────────────┼──────────────────────────────────────┤\n",
      "│ flight_hours_to_departure_cat_18 │                               0.0819 │\n",
      "├──────────────────────────────────┼──────────────────────────────────────┤\n",
      "│ flight_hours_to_departure_cat_19 │                               0.5856 │\n",
      "╘══════════════════════════════════╧══════════════════════════════════════╛\n"
     ]
    }
   ],
   "source": [
    "\n",
    "print(\n",
    "    infer.query(\n",
    "        ['flight_hours_to_departure_cat'],\n",
    "        evidence={\n",
    "            'flight_international': 0\n",
    "        }\n",
    "    ) ['flight_hours_to_departure_cat']\n",
    ")"
   ]
  },
  {
   "cell_type": "code",
   "execution_count": 335,
   "metadata": {},
   "outputs": [
    {
     "name": "stdout",
     "output_type": "stream",
     "text": [
      "╒══════════════════════════════════╤══════════════════════════════════════╕\n",
      "│ flight_hours_to_departure_cat    │   phi(flight_hours_to_departure_cat) │\n",
      "╞══════════════════════════════════╪══════════════════════════════════════╡\n",
      "│ flight_hours_to_departure_cat_0  │                               0.1002 │\n",
      "├──────────────────────────────────┼──────────────────────────────────────┤\n",
      "│ flight_hours_to_departure_cat_1  │                               0.0881 │\n",
      "├──────────────────────────────────┼──────────────────────────────────────┤\n",
      "│ flight_hours_to_departure_cat_2  │                               0.0701 │\n",
      "├──────────────────────────────────┼──────────────────────────────────────┤\n",
      "│ flight_hours_to_departure_cat_3  │                               0.0397 │\n",
      "├──────────────────────────────────┼──────────────────────────────────────┤\n",
      "│ flight_hours_to_departure_cat_4  │                               0.0393 │\n",
      "├──────────────────────────────────┼──────────────────────────────────────┤\n",
      "│ flight_hours_to_departure_cat_5  │                               0.0336 │\n",
      "├──────────────────────────────────┼──────────────────────────────────────┤\n",
      "│ flight_hours_to_departure_cat_6  │                               0.0265 │\n",
      "├──────────────────────────────────┼──────────────────────────────────────┤\n",
      "│ flight_hours_to_departure_cat_7  │                               0.1673 │\n",
      "├──────────────────────────────────┼──────────────────────────────────────┤\n",
      "│ flight_hours_to_departure_cat_8  │                               0.0194 │\n",
      "├──────────────────────────────────┼──────────────────────────────────────┤\n",
      "│ flight_hours_to_departure_cat_9  │                               0.0176 │\n",
      "├──────────────────────────────────┼──────────────────────────────────────┤\n",
      "│ flight_hours_to_departure_cat_10 │                               0.0142 │\n",
      "├──────────────────────────────────┼──────────────────────────────────────┤\n",
      "│ flight_hours_to_departure_cat_11 │                               0.0098 │\n",
      "├──────────────────────────────────┼──────────────────────────────────────┤\n",
      "│ flight_hours_to_departure_cat_12 │                               0.0062 │\n",
      "├──────────────────────────────────┼──────────────────────────────────────┤\n",
      "│ flight_hours_to_departure_cat_13 │                               0.0052 │\n",
      "├──────────────────────────────────┼──────────────────────────────────────┤\n",
      "│ flight_hours_to_departure_cat_14 │                               0.0055 │\n",
      "├──────────────────────────────────┼──────────────────────────────────────┤\n",
      "│ flight_hours_to_departure_cat_15 │                               0.0041 │\n",
      "├──────────────────────────────────┼──────────────────────────────────────┤\n",
      "│ flight_hours_to_departure_cat_16 │                               0.0011 │\n",
      "├──────────────────────────────────┼──────────────────────────────────────┤\n",
      "│ flight_hours_to_departure_cat_17 │                               0.0016 │\n",
      "├──────────────────────────────────┼──────────────────────────────────────┤\n",
      "│ flight_hours_to_departure_cat_18 │                               0.1436 │\n",
      "├──────────────────────────────────┼──────────────────────────────────────┤\n",
      "│ flight_hours_to_departure_cat_19 │                               0.2070 │\n",
      "╘══════════════════════════════════╧══════════════════════════════════════╛\n"
     ]
    }
   ],
   "source": [
    "\n",
    "print(\n",
    "    infer.query(\n",
    "        ['flight_hours_to_departure_cat'],\n",
    "        evidence={\n",
    "            'flight_international': 1\n",
    "        }\n",
    "    ) ['flight_hours_to_departure_cat']\n",
    ")"
   ]
  },
  {
   "cell_type": "code",
   "execution_count": 341,
   "metadata": {},
   "outputs": [
    {
     "data": {
      "text/plain": [
       "array(['(10033.472, 12040.166]', '(12040.166, 14046.86]',\n",
       "       '(14046.86, 16053.555]', '(16053.555, 18060.249]',\n",
       "       '(18060.249, 20066.943]', '(2006.694, 4013.389]',\n",
       "       '(20066.943, 22073.638]', '(22073.638, 24080.332]',\n",
       "       '(24080.332, 26087.0263]', '(26087.0263, 28093.721]',\n",
       "       '(28093.721, 30100.415]', '(30100.415, 32107.109]',\n",
       "       '(34113.804, 36120.498]', '(38127.192, 40133.887]',\n",
       "       '(4013.389, 6020.083]', '(48160.664, 50167.358]',\n",
       "       '(58194.136, 60200.83]', '(6020.083, 8026.777]',\n",
       "       '(8026.777, 10033.472]', '[-60.201, 2006.694]'], dtype=object)"
      ]
     },
     "execution_count": 341,
     "metadata": {},
     "output_type": "execute_result"
    }
   ],
   "source": [
    "dict_columns['flight_price_per_passenger_cat']"
   ]
  },
  {
   "cell_type": "code",
   "execution_count": 343,
   "metadata": {},
   "outputs": [
    {
     "name": "stdout",
     "output_type": "stream",
     "text": [
      "╒══════════════╤═══════════════════╕\n",
      "│ fraudulent   │   phi(fraudulent) │\n",
      "╞══════════════╪═══════════════════╡\n",
      "│ fraudulent_0 │            0.9692 │\n",
      "├──────────────┼───────────────────┤\n",
      "│ fraudulent_1 │            0.0308 │\n",
      "╘══════════════╧═══════════════════╛\n"
     ]
    }
   ],
   "source": [
    "#0~2000\n",
    "print(\n",
    "    infer.query(\n",
    "        ['fraudulent'],\n",
    "        evidence={\n",
    "            'flight_price_per_passenger_cat': 19\n",
    "        }\n",
    "    ) ['fraudulent']\n",
    ")"
   ]
  },
  {
   "cell_type": "code",
   "execution_count": 345,
   "metadata": {},
   "outputs": [
    {
     "name": "stdout",
     "output_type": "stream",
     "text": [
      "╒══════════════╤═══════════════════╕\n",
      "│ fraudulent   │   phi(fraudulent) │\n",
      "╞══════════════╪═══════════════════╡\n",
      "│ fraudulent_0 │            0.9844 │\n",
      "├──────────────┼───────────────────┤\n",
      "│ fraudulent_1 │            0.0156 │\n",
      "╘══════════════╧═══════════════════╛\n"
     ]
    }
   ],
   "source": [
    "# 6000~8000\n",
    "print(\n",
    "    infer.query(\n",
    "        ['fraudulent'],\n",
    "        evidence={\n",
    "            'flight_price_per_passenger_cat': 17\n",
    "        }\n",
    "    ) ['fraudulent']\n",
    ")"
   ]
  },
  {
   "cell_type": "code",
   "execution_count": 346,
   "metadata": {},
   "outputs": [
    {
     "name": "stdout",
     "output_type": "stream",
     "text": [
      "╒════════════════════════╤═════════════════════════════╕\n",
      "│ flight_international   │   phi(flight_international) │\n",
      "╞════════════════════════╪═════════════════════════════╡\n",
      "│ flight_international_0 │                      0.9197 │\n",
      "├────────────────────────┼─────────────────────────────┤\n",
      "│ flight_international_1 │                      0.0803 │\n",
      "╘════════════════════════╧═════════════════════════════╛\n"
     ]
    }
   ],
   "source": [
    "#0~2000\n",
    "print(\n",
    "    infer.query(\n",
    "        ['flight_international'],\n",
    "        evidence={\n",
    "            'flight_price_per_passenger_cat': 19\n",
    "        }\n",
    "    ) ['flight_international']\n",
    ")"
   ]
  },
  {
   "cell_type": "code",
   "execution_count": 347,
   "metadata": {},
   "outputs": [
    {
     "name": "stdout",
     "output_type": "stream",
     "text": [
      "╒════════════════════════╤═════════════════════════════╕\n",
      "│ flight_international   │   phi(flight_international) │\n",
      "╞════════════════════════╪═════════════════════════════╡\n",
      "│ flight_international_0 │                      0.0069 │\n",
      "├────────────────────────┼─────────────────────────────┤\n",
      "│ flight_international_1 │                      0.9931 │\n",
      "╘════════════════════════╧═════════════════════════════╛\n"
     ]
    }
   ],
   "source": [
    "#0~2000\n",
    "print(\n",
    "    infer.query(\n",
    "        ['flight_international'],\n",
    "        evidence={\n",
    "            'flight_price_per_passenger_cat': 17\n",
    "        }\n",
    "    ) ['flight_international']\n",
    ")"
   ]
  },
  {
   "cell_type": "code",
   "execution_count": null,
   "metadata": {},
   "outputs": [],
   "source": [
    "print(\n",
    "    infer.query(\n",
    "        ['flight_international'],\n",
    "        evidence={\n",
    "            'flight_price_per_passenger_cat': 17\n",
    "        }\n",
    "    ) ['flight_international']\n",
    ")"
   ]
  }
 ],
 "metadata": {
  "kernelspec": {
   "display_name": "Python 3",
   "language": "python",
   "name": "python3"
  },
  "language_info": {
   "codemirror_mode": {
    "name": "ipython",
    "version": 3
   },
   "file_extension": ".py",
   "mimetype": "text/x-python",
   "name": "python",
   "nbconvert_exporter": "python",
   "pygments_lexer": "ipython3",
   "version": "3.5.6"
  }
 },
 "nbformat": 4,
 "nbformat_minor": 2
}
